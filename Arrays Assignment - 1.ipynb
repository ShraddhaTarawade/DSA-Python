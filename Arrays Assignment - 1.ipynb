{
 "cells": [
  {
   "cell_type": "markdown",
   "id": "1bba7be9",
   "metadata": {},
   "source": [
    " # Arrays Assignment - 1"
   ]
  },
  {
   "cell_type": "markdown",
   "id": "a32d9994",
   "metadata": {},
   "source": [
    "## Question - 1"
   ]
  },
  {
   "cell_type": "code",
   "execution_count": 1,
   "id": "ed4daa47",
   "metadata": {},
   "outputs": [
    {
     "name": "stdout",
     "output_type": "stream",
     "text": [
      "[0, 1]\n"
     ]
    }
   ],
   "source": [
    "'''Brute force - take 2 loops and search each number\n",
    "whether it gives 9 when it is added to any other number\n",
    "takes O(N^2) time complexity and O(1) space complexity'''\n",
    "\n",
    "# Two-sum approach \n",
    "\n",
    "class Total:\n",
    "    def __init__(self, nums:list, target: int):\n",
    "        self.nums = nums\n",
    "        self.target = target\n",
    "    \n",
    "    def AddTotal(self)-> int:\n",
    "        n = len(self.nums)\n",
    "        if n < 0:\n",
    "            return -1\n",
    "        p1 = 0           # pointer 1\n",
    "        p2 = n-1         # pointer 2\n",
    "        \n",
    "        for i in range(n):\n",
    "            if self.nums[p1] + self.nums[p2] == self.target:\n",
    "                return [p1, p2]\n",
    "            \n",
    "            elif self.nums[p1] + self.nums[p2] > self.target:\n",
    "                p2 -= 1\n",
    "            \n",
    "            elif self.nums[p1] + self.nums[p2] < self.target:\n",
    "                p1 += 1\n",
    "            \n",
    "            else:\n",
    "                return -1\n",
    "            \n",
    "# Declaring values and checking for output\n",
    "            \n",
    "nums = [2,7,11,15]\n",
    "target = 9\n",
    "obj = Total(nums, target)\n",
    "print(obj.AddTotal())\n",
    "    \n",
    "#Time-complexity - O(N)  ----> only one for loop\n",
    "#Space-complexity - O(1) \n"
   ]
  },
  {
   "cell_type": "markdown",
   "id": "ce9cc1db",
   "metadata": {},
   "source": [
    "## Question - 2"
   ]
  },
  {
   "cell_type": "code",
   "execution_count": 2,
   "id": "371afd06",
   "metadata": {},
   "outputs": [
    {
     "name": "stdout",
     "output_type": "stream",
     "text": [
      "2; nums =  [2, 2, None, None]\n"
     ]
    }
   ],
   "source": [
    "class DelNum:\n",
    "    def __init__(self, nums:list, val:int):\n",
    "        self.nums = nums\n",
    "        self.val = val\n",
    "        \n",
    "    def RemoveNum(self):\n",
    "        n = len(self.nums)\n",
    "        new_list = []\n",
    "        \n",
    "        for i in range(n):\n",
    "            if nums[i] != val:\n",
    "                new_list.append(nums[i])\n",
    "        \n",
    "        m = len(new_list)\n",
    "        new_list += [None]*(n-m)\n",
    "        return m,new_list\n",
    "\n",
    "    \n",
    "# Declaring values and checking for output\n",
    "\n",
    "nums = [3,2,2,3]\n",
    "val = 3\n",
    "obj = DelNum(nums,val)\n",
    "non_val, non_val_list = obj.RemoveNum()\n",
    "print(non_val, end = \"; \")\n",
    "print(\"nums = \",non_val_list)\n",
    "\n",
    "\n",
    "#Time-Complexity - O(n)\n",
    "#Space- Complexity - O(n)          "
   ]
  },
  {
   "cell_type": "markdown",
   "id": "cb53b982",
   "metadata": {},
   "source": [
    "## Question - 3"
   ]
  },
  {
   "cell_type": "code",
   "execution_count": 3,
   "id": "7e06eccf",
   "metadata": {},
   "outputs": [
    {
     "name": "stdout",
     "output_type": "stream",
     "text": [
      "4\n"
     ]
    }
   ],
   "source": [
    "def IndexFinder(array, target):\n",
    "    n = len(array)\n",
    "    left = 0\n",
    "    right = n-1\n",
    "\n",
    "    for i in range(n):\n",
    "        mid = left + (right - left) // 2\n",
    "\n",
    "        if left > right :\n",
    "            return mid+1\n",
    "        \n",
    "        elif array[mid] == target:\n",
    "            return mid\n",
    "        \n",
    "        elif array[mid] > target:\n",
    "            right = mid - 1\n",
    "            \n",
    "        else:\n",
    "            left = mid + 1\n",
    "\n",
    "# Declaring values and checking for output\n",
    "\n",
    "array = [1, 3, 5, 6]\n",
    "target = 7\n",
    "val = IndexFinder(array, target)\n",
    "print(val)"
   ]
  },
  {
   "cell_type": "markdown",
   "id": "a60019b4",
   "metadata": {},
   "source": [
    "## Question - 4"
   ]
  },
  {
   "cell_type": "code",
   "execution_count": 4,
   "id": "d19838ca",
   "metadata": {},
   "outputs": [
    {
     "name": "stdout",
     "output_type": "stream",
     "text": [
      "[1, 2, 4]\n"
     ]
    }
   ],
   "source": [
    "class NumAdder:\n",
    "    def __init__(self, digits: list):\n",
    "        self.digits = digits\n",
    "    \n",
    "    def Adder(self):\n",
    "        n = len(self.digits)\n",
    "        val = 0\n",
    "        \n",
    "        #Converting the list of integers to a number\n",
    "        for i in range(n):\n",
    "            val = val*10 + self.digits[i]\n",
    "        \n",
    "        val += 1\n",
    "        new_list = []\n",
    "        \n",
    "        #Converting a number to list of integers\n",
    "        while val > 0:\n",
    "            new_list.append(val % 10)\n",
    "            val = val//10\n",
    "        #Reversing the list\n",
    "        new_list = new_list[::-1]\n",
    "        \n",
    "        return new_list\n",
    "\n",
    "\n",
    "    \n",
    "# Declaring values and checking for output\n",
    "\n",
    "digits = [1,2,3]\n",
    "obj = NumAdder(digits)\n",
    "print(obj.Adder())\n",
    "\n",
    "# Time - Complexity - O(n)\n",
    "# Space - Complexity - O(n)"
   ]
  },
  {
   "cell_type": "markdown",
   "id": "abd4456e",
   "metadata": {},
   "source": [
    "## Question - 5"
   ]
  },
  {
   "cell_type": "code",
   "execution_count": 5,
   "id": "e0fca472",
   "metadata": {},
   "outputs": [
    {
     "name": "stdout",
     "output_type": "stream",
     "text": [
      "[1, 2, 2, 3, 5, 6]\n"
     ]
    }
   ],
   "source": [
    "def Merge(nums1, m, nums2, n):\n",
    "    nums1_c = nums1[:m]\n",
    "    \n",
    "    p1, p2 = 0, 0\n",
    "    \n",
    "    for i in range(m+n):\n",
    "        \n",
    "        if p2 >= n or (p1 < m and nums1_c[p1] < nums2[p2]):\n",
    "            nums1[i] = nums1_c[p1]\n",
    "            p1 += 1\n",
    "        else:\n",
    "            nums1[i] = nums2[p2]\n",
    "            p2 += 1\n",
    "            \n",
    "       \n",
    "        \n",
    "    return nums1\n",
    "\n",
    "\n",
    "# Declaring values and checking for output\n",
    "\n",
    "nums1 = [1, 2, 3, 0, 0, 0]\n",
    "m = 3\n",
    "nums2 = [2, 5, 6]\n",
    "n = 3\n",
    "val = Merge(nums1, m, nums2, n)\n",
    "print(val)\n",
    "\n",
    "\n",
    "#Time Complexity - O(m+n)\n",
    "#Space Complexity - O(m)"
   ]
  },
  {
   "cell_type": "markdown",
   "id": "ff67bdb5",
   "metadata": {},
   "source": [
    "## Question - 6"
   ]
  },
  {
   "cell_type": "code",
   "execution_count": 6,
   "id": "03b56e76",
   "metadata": {},
   "outputs": [
    {
     "name": "stdout",
     "output_type": "stream",
     "text": [
      "1\n"
     ]
    }
   ],
   "source": [
    "def Repeated_2(arr: list):\n",
    "    \n",
    "    seen = set()\n",
    "    plus = None\n",
    "    for i in arr:\n",
    "        if i in seen:\n",
    "            plus = 1\n",
    "            return i\n",
    "        else:\n",
    "            seen.add(i)\n",
    "    if plus == None:\n",
    "        return None\n",
    "\n",
    "# Declaring values and checking for output\n",
    "\n",
    "m_list = [1,2,3,1]\n",
    "output = Repeated_2(m_list)\n",
    "print(output)\n",
    "\n",
    "#Time - Complexity - O(N)\n",
    "#Space - Complexity - O(1)"
   ]
  },
  {
   "cell_type": "markdown",
   "id": "34965d3c",
   "metadata": {},
   "source": [
    "## Question - 7"
   ]
  },
  {
   "cell_type": "code",
   "execution_count": 7,
   "id": "da912fe2",
   "metadata": {},
   "outputs": [
    {
     "name": "stdout",
     "output_type": "stream",
     "text": [
      "[1, 3, 12, 0, 0]\n"
     ]
    }
   ],
   "source": [
    "def moveZeroes(nums):\n",
    "    # two pointers\n",
    "    left = 0\n",
    "    right = 0\n",
    "        \n",
    "    while right < len(nums):\n",
    "        if nums[right] != 0:\n",
    "            nums[left], nums[right] = nums[right], nums[left]\n",
    "            left += 1\n",
    "        right += 1\n",
    "\n",
    "\n",
    "# Declaring values and checking for output\n",
    "\n",
    "nums = [0, 1, 0, 3, 12]\n",
    "moveZeroes(nums)\n",
    "print(nums)\n",
    "\n",
    "# Time Complexity - O(n)\n",
    "# Space Complexity - O(1)"
   ]
  },
  {
   "cell_type": "markdown",
   "id": "7b0b924f",
   "metadata": {},
   "source": [
    "## Question - 8"
   ]
  },
  {
   "cell_type": "code",
   "execution_count": 8,
   "id": "74fa1a54",
   "metadata": {},
   "outputs": [
    {
     "name": "stdout",
     "output_type": "stream",
     "text": [
      "[2, 3]\n"
     ]
    }
   ],
   "source": [
    "def duplicateNum(nums):\n",
    "    n = len(nums)\n",
    "    numSet = set()\n",
    "    missing, duplicate = None, None\n",
    "   \n",
    "    for i in range(1,n+1):\n",
    "        if i not in nums:\n",
    "            missing = i\n",
    "        if nums[i-1] in numSet:\n",
    "            duplicate = nums[i-1]\n",
    "        numSet.add(nums[i-1])\n",
    "        \n",
    "    return [duplicate, missing]\n",
    "\n",
    "\n",
    "# Declaring values and checking for output\n",
    "\n",
    "nums = [1,2,2,4]\n",
    "output = duplicateNum(nums)\n",
    "print(output)\n",
    "\n",
    "#Time Complexity - O(n)\n",
    "#Space Complexity - O(1)"
   ]
  }
 ],
 "metadata": {
  "kernelspec": {
   "display_name": "Python 3 (ipykernel)",
   "language": "python",
   "name": "python3"
  },
  "language_info": {
   "codemirror_mode": {
    "name": "ipython",
    "version": 3
   },
   "file_extension": ".py",
   "mimetype": "text/x-python",
   "name": "python",
   "nbconvert_exporter": "python",
   "pygments_lexer": "ipython3",
   "version": "3.10.2"
  }
 },
 "nbformat": 4,
 "nbformat_minor": 5
}
