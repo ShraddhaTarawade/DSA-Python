{
 "cells": [
  {
   "cell_type": "markdown",
   "id": "feca2247",
   "metadata": {},
   "source": [
    "# Arrays Assignment - 3\n"
   ]
  },
  {
   "cell_type": "markdown",
   "id": "7618b6af",
   "metadata": {},
   "source": [
    "## Question - 1"
   ]
  },
  {
   "cell_type": "code",
   "execution_count": 1,
   "id": "c528e40d",
   "metadata": {},
   "outputs": [
    {
     "name": "stdout",
     "output_type": "stream",
     "text": [
      "2\n"
     ]
    }
   ],
   "source": [
    "'''Q1. As to find sum of three integers close to target,\n",
    "3 pointer approach may be the best solution'''\n",
    "\n",
    "def ClosestSum(nums, target) :\n",
    "    \n",
    "    nums.sort()               #Should be used on a sorted array\n",
    "    closest_sum = float('inf')      #Assuming an infinte value\n",
    "    \n",
    "    for i in range(len(nums) - 2) :  # i will be one pointer\n",
    "        left = i + 1                 # 2nd pointer\n",
    "        right = len(nums) - 1        # 3rd pointer\n",
    "        \n",
    "        while left < right :\n",
    "            current_sum = nums[i] + nums[left] + nums[right]\n",
    "            if current_sum == target :\n",
    "                return current_sum\n",
    "            \n",
    "            # abs() gives value close to 0\n",
    "            if abs(current_sum - target) < abs(closest_sum - target) :   # Verifying Whether previous sum is less than current\n",
    "                closest_sum = current_sum                   \n",
    "            \n",
    "            if current_sum < target:     # In sorted array to get more sum increse the index to get large value than previous\n",
    "                left += 1\n",
    "            \n",
    "            else: \n",
    "                right -= 1\n",
    "                \n",
    "    return closest_sum\n",
    "\n",
    "\n",
    "# Declaring values and checking for output\n",
    "\n",
    "nums = [-1,2,1,-4]\n",
    "target = 1\n",
    "result = ClosestSum(nums, target)\n",
    "print(result)\n",
    "\n",
    "# Time Complexity - O(n^2)             'O(n^2) > O(nlogn)'\n",
    "# Space Complexity - O(1)        "
   ]
  },
  {
   "cell_type": "markdown",
   "id": "7f00a41c",
   "metadata": {},
   "source": [
    "## Question - 2"
   ]
  },
  {
   "cell_type": "code",
   "execution_count": 2,
   "id": "9fb1b11a",
   "metadata": {},
   "outputs": [
    {
     "name": "stdout",
     "output_type": "stream",
     "text": [
      "[[-2, -1, 1, 2], [-2, 0, 0, 2], [-1, 0, 0, 1]]\n"
     ]
    }
   ],
   "source": [
    "'Q2. '\n",
    "\n",
    "def fourSum(nums, target):\n",
    "    nums.sort()\n",
    "    n = len(nums)\n",
    "    quadruplets = []\n",
    "\n",
    "    for i in range(n - 3):\n",
    "        # First pointer\n",
    "        if i > 0 and nums[i] == nums[i - 1]:                         # Skip duplicates\n",
    "            continue\n",
    "\n",
    "        for j in range(i + 1, n - 2):\n",
    "            # Second pointer\n",
    "            if j > i + 1 and nums[j] == nums[j - 1]:                 # Skip duplicates\n",
    "                continue\n",
    "\n",
    "            left = j + 1                                             # Third pointer\n",
    "            right = n - 1                                            # Fourth pointer\n",
    "\n",
    "            while left < right:\n",
    "                current_sum = nums[i] + nums[j] + nums[left] + nums[right]\n",
    "\n",
    "                if current_sum == target:\n",
    "                    quadruplets.append([nums[i], nums[j], nums[left], nums[right]])\n",
    "\n",
    "                    # Skip duplicates\n",
    "                    while left < right and nums[left] == nums[left + 1]:\n",
    "                        left += 1\n",
    "                    while left < right and nums[right] == nums[right - 1]:\n",
    "                        right -= 1\n",
    "\n",
    "                    left += 1\n",
    "                    right -= 1\n",
    "                elif current_sum < target:\n",
    "                    left += 1\n",
    "                else:\n",
    "                    right -= 1\n",
    "\n",
    "    return quadruplets\n",
    "\n",
    "\n",
    "nums = [1, 0, -1, 0, -2, 2]\n",
    "target = 0\n",
    "result = fourSum(nums, target)\n",
    "print(result)\n",
    "\n",
    "# Time Complexity - O(n^3)\n",
    "# Space Complexity - O(1)"
   ]
  },
  {
   "cell_type": "markdown",
   "id": "697bd8a4",
   "metadata": {},
   "source": [
    "## Question - 3"
   ]
  },
  {
   "cell_type": "code",
   "execution_count": 3,
   "id": "a0d2cd3b",
   "metadata": {},
   "outputs": [
    {
     "name": "stdout",
     "output_type": "stream",
     "text": [
      "[1, 3, 2]\n"
     ]
    }
   ],
   "source": [
    "'Q3. '\n",
    "\n",
    "def Permutation(nums):\n",
    "    n = len(nums)\n",
    "    i = n - 2\n",
    "\n",
    "    # Find the first decreasing element from the right\n",
    "    while i >= 0 and nums[i] >= nums[i + 1]:\n",
    "        i -= 1\n",
    "\n",
    "    if i >= 0:\n",
    "        # Find the smallest element greater than nums[i]\n",
    "        j = n - 1\n",
    "        while nums[j] <= nums[i]:\n",
    "            j -= 1\n",
    "        nums[i], nums[j] = nums[j], nums[i]\n",
    "\n",
    "    # Reverse the suffix to get the next permutation\n",
    "    left = i + 1\n",
    "    right = n - 1\n",
    "    while left < right:\n",
    "        nums[left], nums[right] = nums[right], nums[left]\n",
    "        left += 1\n",
    "        right -= 1\n",
    "\n",
    "    return nums\n",
    "\n",
    "# Declaring values and checking for output\n",
    "\n",
    "nums = [1, 2, 3]\n",
    "output = Permutation(nums)\n",
    "print(output)\n",
    "\n",
    "# Time Complexity - O(n)\n",
    "# Space Complexity - O(1)"
   ]
  },
  {
   "cell_type": "markdown",
   "id": "c2ec6377",
   "metadata": {},
   "source": [
    "## Question - 4"
   ]
  },
  {
   "cell_type": "code",
   "execution_count": 4,
   "id": "10760666",
   "metadata": {},
   "outputs": [
    {
     "name": "stdout",
     "output_type": "stream",
     "text": [
      "2\n"
     ]
    }
   ],
   "source": [
    "'Q4. '\n",
    "\n",
    "def searchTarget(nums, target):\n",
    "    \n",
    "    left = 0\n",
    "    right = len(nums) - 1\n",
    "    \n",
    "    while left <= right:\n",
    "        mid = (left + right)//2         # Binary Search\n",
    "        \n",
    "        if nums[mid] == target:\n",
    "            return mid\n",
    "        elif nums[mid] < target:\n",
    "            left = mid + 1\n",
    "            \n",
    "        else:\n",
    "            right = mid - 1\n",
    "            \n",
    "    return -1 \n",
    "\n",
    "# Declaring values and checking for output\n",
    "\n",
    "nums = [1, 3, 5, 6]\n",
    "target = 5\n",
    "result = searchTarget(nums, target)\n",
    "print(result)\n",
    "\n",
    "# Time Complexity - O(log n)\n",
    "# Space Complexity - O(1)"
   ]
  },
  {
   "cell_type": "markdown",
   "id": "e159fbe3",
   "metadata": {},
   "source": [
    "## Question - 5"
   ]
  },
  {
   "cell_type": "code",
   "execution_count": 5,
   "id": "1dc39662",
   "metadata": {},
   "outputs": [
    {
     "name": "stdout",
     "output_type": "stream",
     "text": [
      "[1, 2, 4]\n"
     ]
    }
   ],
   "source": [
    "'Q5. '\n",
    "\n",
    "def addOne(digits: list):\n",
    "    string = ''                  # Empty String\n",
    "    for i in digits:\n",
    "        string += str(i)         # List of integers to a string\n",
    "    \n",
    "    mod_string = str( int(string) + 1)     # Converting string to integer and adding plus 1 and again back to string\n",
    "    \n",
    "    digits = [int(i) for i in mod_string]   # Modifying the string to list of integers\n",
    "    \n",
    "    return digits\n",
    "\n",
    "# Declaring values and checking for output\n",
    "\n",
    "digits = [1, 2, 3]\n",
    "result = addOne(digits)\n",
    "print(result)\n",
    "\n",
    "# Time Complexity - O(n)\n",
    "# Space Complexity - O(n)"
   ]
  },
  {
   "cell_type": "markdown",
   "id": "d6cf95b1",
   "metadata": {},
   "source": [
    "## Question - 6"
   ]
  },
  {
   "cell_type": "code",
   "execution_count": 6,
   "id": "9ab3149b",
   "metadata": {},
   "outputs": [
    {
     "name": "stdout",
     "output_type": "stream",
     "text": [
      "1\n"
     ]
    }
   ],
   "source": [
    "'''Q6. XOR operation gives 0 when both bits are equal and 1 when bits are different. \n",
    "When performing XOR on numbers in list if there are same numbers it will give 0 and finally returns the number\n",
    "which is not repeated''' \n",
    "\n",
    "def singleElement(nums: list):\n",
    "    \n",
    "    result = 0\n",
    "    \n",
    "    for num in nums:\n",
    "        result ^= num                 # Performing XOR operation on numbers \n",
    "        \n",
    "    return result\n",
    "\n",
    "# Declaring values and checking for output\n",
    "\n",
    "nums = [2, 2, 1]\n",
    "result = singleElement(nums)\n",
    "print(result)\n",
    "\n",
    "# Time Complexity - O(n)\n",
    "# Space Complexity - O(1)"
   ]
  },
  {
   "cell_type": "markdown",
   "id": "b368baf0",
   "metadata": {},
   "source": [
    "## Question - 7"
   ]
  },
  {
   "cell_type": "code",
   "execution_count": 7,
   "id": "ac029a92",
   "metadata": {},
   "outputs": [
    {
     "name": "stdout",
     "output_type": "stream",
     "text": [
      "[[2, 2], [4, 49], [51, 74], [76, 99]]\n"
     ]
    }
   ],
   "source": [
    "'Q7.'\n",
    "\n",
    "def MissingNumbs(nums: list, lower , upper):\n",
    "    missingList = []\n",
    "    \n",
    "    if nums[0] > lower:                                              # Checking for lower bound\n",
    "        missingList.append([lower, nums[0] - 1])\n",
    "        \n",
    "    for i in range(1, len(nums)):\n",
    "        \n",
    "        if nums[i] - nums[i-1] > 1:                                 # checking Difference with the previous number \n",
    "            missingList.append([nums[i-1] + 1, nums[i] - 1])\n",
    "            \n",
    "    if nums[-1] < upper:                                            # Checking for upper bound\n",
    "        missingList.append([nums[-1] + 1, upper])\n",
    "        \n",
    "    return missingList\n",
    "\n",
    "# Declaring values and checking for output\n",
    "\n",
    "nums = [0,1,3,50,75]\n",
    "lower = 0\n",
    "upper = 99\n",
    "result = MissingNumbs(nums, lower, upper)\n",
    "print(result)\n",
    "\n",
    "# Time Complexity - O(n)\n",
    "# Space Complexity - O(1)"
   ]
  },
  {
   "cell_type": "markdown",
   "id": "bb41589b",
   "metadata": {},
   "source": [
    "# # # Question - 8"
   ]
  },
  {
   "cell_type": "code",
   "execution_count": 8,
   "id": "e978d11d",
   "metadata": {},
   "outputs": [
    {
     "name": "stdout",
     "output_type": "stream",
     "text": [
      "False\n"
     ]
    }
   ],
   "source": [
    "'''Q8. If the current start interval is less than previous then the interval is in overlapping condition,\n",
    "where a person can't attend that meeting '''\n",
    "\n",
    "def overlapping(intervals ):\n",
    "    for i in range(1, len(intervals)):\n",
    "        if intervals[i][0] < intervals[i-1][1]:\n",
    "            return False\n",
    "    return True\n",
    "\n",
    "# Declaring values and checking for output\n",
    "\n",
    "intervals = [[0,30],[5,10],[15,20]]\n",
    "result = overlapping(intervals)\n",
    "print(result)\n",
    "\n",
    "# Time Complexity - O(n)\n",
    "# Space Complexity - O(1)"
   ]
  }
 ],
 "metadata": {
  "kernelspec": {
   "display_name": "Python 3 (ipykernel)",
   "language": "python",
   "name": "python3"
  },
  "language_info": {
   "codemirror_mode": {
    "name": "ipython",
    "version": 3
   },
   "file_extension": ".py",
   "mimetype": "text/x-python",
   "name": "python",
   "nbconvert_exporter": "python",
   "pygments_lexer": "ipython3",
   "version": "3.9.12"
  }
 },
 "nbformat": 4,
 "nbformat_minor": 5
}
