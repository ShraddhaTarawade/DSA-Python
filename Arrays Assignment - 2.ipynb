{
 "cells": [
  {
   "cell_type": "markdown",
   "id": "0d02a14e",
   "metadata": {},
   "source": [
    "#   Arrays Assignment - 2"
   ]
  },
  {
   "cell_type": "markdown",
   "id": "56cb013a",
   "metadata": {},
   "source": [
    "## Question - 1"
   ]
  },
  {
   "cell_type": "code",
   "execution_count": 1,
   "id": "33ebaf1b",
   "metadata": {},
   "outputs": [
    {
     "name": "stdout",
     "output_type": "stream",
     "text": [
      "4\n"
     ]
    }
   ],
   "source": [
    "'''Q1. To get the maximum sum from minimum values from pairs,\n",
    "pairs difference should be less, so taking the successive pairs\n",
    "gives maximum total from the sorted array'''\n",
    "\n",
    "def maxTotal(nums):\n",
    "    nums.sort()\n",
    "    \n",
    "    count = 0\n",
    "    \n",
    "    for i in range(0, len(nums), 2):\n",
    "        count += nums[i]\n",
    "    \n",
    "    return count\n",
    "\n",
    "# Declaring values and checking for output\n",
    "\n",
    "nums = [1,4,3,2]\n",
    "output = maxTotal(nums)\n",
    "print(output)\n",
    "\n",
    "#Time Complexity - O(nlogn)\n",
    "#Space Complexity - O(1)    "
   ]
  },
  {
   "cell_type": "markdown",
   "id": "9da86322",
   "metadata": {},
   "source": [
    "## Question - 2"
   ]
  },
  {
   "cell_type": "code",
   "execution_count": 3,
   "id": "b1b02bc7",
   "metadata": {},
   "outputs": [
    {
     "name": "stdout",
     "output_type": "stream",
     "text": [
      "3\n"
     ]
    }
   ],
   "source": [
    "def distributeCandies(candyType):\n",
    "\n",
    "    numSet = set()\n",
    "    n = len(candyType)\n",
    "\n",
    "    for i in candyType:\n",
    "        if len(numSet) < n / 2:         #total elements in set should be less than n/2 \n",
    "            numSet.add(i)\n",
    "    return len(numSet)\n",
    "\n",
    "\n",
    "# Declaring values and checking for output\n",
    "\n",
    "candyType = [1,1,2,3,3]\n",
    "obj  = distributeCandies(candyType)\n",
    "print(obj)\n",
    "\n",
    "#Time Complexity - O(n)\n",
    "#Space Complexity - O(1)"
   ]
  },
  {
   "cell_type": "markdown",
   "id": "eb5c83ec",
   "metadata": {},
   "source": [
    "## Question - 3"
   ]
  },
  {
   "cell_type": "code",
   "execution_count": 4,
   "id": "c1eb53e6",
   "metadata": {},
   "outputs": [
    {
     "data": {
      "text/plain": [
       "5"
      ]
     },
     "execution_count": 4,
     "metadata": {},
     "output_type": "execute_result"
    }
   ],
   "source": [
    "def longSeq(arr: list):\n",
    "    \n",
    "    from collections import Counter         \n",
    "    count = Counter(arr)              #Gives count of values repeated inside array as a dictionary\n",
    "    max_val = 0\n",
    "    \n",
    "    for key in count:\n",
    "        if key + 1 in count:          \n",
    "            max_val =  max(max_val, count[key] + count[key+1])\n",
    "    \n",
    "    return max_val\n",
    "\n",
    "# Declaring values and checking for output\n",
    "\n",
    "nums = [1,3,2,2,5,2,3,7]\n",
    "longSeq(nums)\n",
    "\n",
    "#Time Complexity - O(n)\n",
    "#Space Complexity - O(n)"
   ]
  },
  {
   "cell_type": "markdown",
   "id": "d362dc8a",
   "metadata": {},
   "source": [
    "## Question - 4 "
   ]
  },
  {
   "cell_type": "code",
   "execution_count": 5,
   "id": "7dc2f173",
   "metadata": {},
   "outputs": [
    {
     "name": "stdout",
     "output_type": "stream",
     "text": [
      "True\n"
     ]
    }
   ],
   "source": [
    "def placeFlowers(flowerbed, n):\n",
    "        count = 0\n",
    "        size = len(flowerbed)\n",
    "        i = 0\n",
    "        \n",
    "        #Checking for places at conditions when 0 is at start or end or at middle positions\n",
    "        while i < size:\n",
    "            if flowerbed[i] == 0 and (i == 0 or flowerbed[i-1] == 0) and (i == size-1 or flowerbed[i+1] == 0):\n",
    "                flowerbed[i] = 1\n",
    "                count += 1\n",
    "            i += 1\n",
    "    \n",
    "        return count >= n\n",
    "\n",
    "# Declaring values and checking for output\n",
    "\n",
    "flowerbed = [1,0,0,0,1]\n",
    "n = 1\n",
    "print(placeFlowers(flowerbed, n))\n",
    "\n",
    "#Time Complexity - O(n)\n",
    "#Space Complexity - O(1)"
   ]
  },
  {
   "cell_type": "markdown",
   "id": "f71cdbee",
   "metadata": {},
   "source": [
    "## Question - 5"
   ]
  },
  {
   "cell_type": "code",
   "execution_count": 6,
   "id": "6911749e",
   "metadata": {},
   "outputs": [
    {
     "data": {
      "text/plain": [
       "6"
      ]
     },
     "execution_count": 6,
     "metadata": {},
     "output_type": "execute_result"
    }
   ],
   "source": [
    "def product(nums):\n",
    "    \n",
    "    n = len(nums)\n",
    "    nums.sort()\n",
    "    \n",
    "    product_1 = nums[0] * nums[1] * nums[n-1]\n",
    "    product_2 = nums[n-1] * nums[n-2] * nums[n-3]\n",
    "    \n",
    "    return max(product_1,product_2)\n",
    "\n",
    "\n",
    "# Declaring values and checking for output\n",
    "\n",
    "nums = [1,2,3]\n",
    "product(nums)\n",
    "    "
   ]
  },
  {
   "cell_type": "markdown",
   "id": "6cc9e8c8",
   "metadata": {},
   "source": [
    "## Question - 6"
   ]
  },
  {
   "cell_type": "code",
   "execution_count": 7,
   "id": "865b1e45",
   "metadata": {},
   "outputs": [
    {
     "data": {
      "text/plain": [
       "4"
      ]
     },
     "execution_count": 7,
     "metadata": {},
     "output_type": "execute_result"
    }
   ],
   "source": [
    "def SearchTarget(nums, target):\n",
    "    low = 0\n",
    "    n = len(nums) - 1\n",
    "    high = n\n",
    "    \n",
    "    # Binary Search gives O(logn) complexity\n",
    "    while low <= high:\n",
    "        mid = low + (high - low)//2         #In binary search we have to find middle element index\n",
    "        \n",
    "        if nums[mid] == target:\n",
    "            \n",
    "            return mid\n",
    "        elif nums[mid] < target:\n",
    "            low = mid + 1\n",
    "        else:\n",
    "            high = mid - 1\n",
    "    \n",
    "    return -1\n",
    " \n",
    "    \n",
    "# Declaring values and checking for output\n",
    "\n",
    "nums = [-1,0,3,5,9,12]\n",
    "target = 9\n",
    "SearchTarget(nums, target)\n",
    "\n",
    "#Time Complexity - O(n)\n",
    "#Space Complexity - O(1)\n",
    "    \n",
    "    "
   ]
  },
  {
   "cell_type": "markdown",
   "id": "18ed704c",
   "metadata": {},
   "source": [
    "## Question 7"
   ]
  },
  {
   "cell_type": "code",
   "execution_count": 8,
   "id": "2f69869f",
   "metadata": {},
   "outputs": [
    {
     "name": "stdout",
     "output_type": "stream",
     "text": [
      "True\n"
     ]
    }
   ],
   "source": [
    "def Monotonic(nums):\n",
    "    j = 0\n",
    "    n = len(nums)\n",
    "    #Checking pattern of nums\n",
    "    if nums[0] - nums[n-1] <= 0:                    # pattern for increasing order\n",
    "        for i in range(1,n):\n",
    "            if nums[j] - nums[i] <= 0 :\n",
    "                j += 1\n",
    "            else:\n",
    "                return False\n",
    "    \n",
    "    elif nums[0] - nums[n-1] >= 0:                # Pattern for decreasing order\n",
    "        for i in range(1,n):\n",
    "            if nums[j] - nums[i] >= 0 :\n",
    "                j += 1\n",
    "            else:\n",
    "                return False\n",
    "    \n",
    "    return True\n",
    "\n",
    "\n",
    "# Declaring values and checking for output\n",
    "\n",
    "nums = [1,2,2,3]\n",
    "result = Monotonic(nums)\n",
    "print(result)\n",
    "\n",
    "#Time Complexity - O(n)\n",
    "#Space Complexity - O(1)"
   ]
  },
  {
   "cell_type": "markdown",
   "id": "3fafe00f",
   "metadata": {},
   "source": [
    "## Question 8"
   ]
  },
  {
   "cell_type": "code",
   "execution_count": 9,
   "id": "2930d697",
   "metadata": {},
   "outputs": [
    {
     "name": "stdout",
     "output_type": "stream",
     "text": [
      "0\n"
     ]
    }
   ],
   "source": [
    "def Score(nums, k):\n",
    "    maxi = max(nums) - k      #The largest possible minimum value is min(nums) - k\n",
    "    mini = min(nums) + k      #The smallest possible maximum value is max(nums) - k.\n",
    "    \n",
    "    return max(0, maxi - mini)\n",
    "\n",
    "\n",
    "# Declaring values and checking for output\n",
    "\n",
    "nums = [1]\n",
    "k = 0\n",
    "result = Score(nums, k)\n",
    "print(result)\n",
    "\n",
    "#Time Complexity - O(N)\n",
    "#Space Complexity - O(1)"
   ]
  }
 ],
 "metadata": {
  "kernelspec": {
   "display_name": "Python 3 (ipykernel)",
   "language": "python",
   "name": "python3"
  },
  "language_info": {
   "codemirror_mode": {
    "name": "ipython",
    "version": 3
   },
   "file_extension": ".py",
   "mimetype": "text/x-python",
   "name": "python",
   "nbconvert_exporter": "python",
   "pygments_lexer": "ipython3",
   "version": "3.10.2"
  }
 },
 "nbformat": 4,
 "nbformat_minor": 5
}
