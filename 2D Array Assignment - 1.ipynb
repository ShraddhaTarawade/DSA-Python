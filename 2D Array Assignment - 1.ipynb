{
 "cells": [
  {
   "cell_type": "markdown",
   "id": "e7faf6db",
   "metadata": {},
   "source": [
    "# 2D Arrays Assignment"
   ]
  },
  {
   "cell_type": "markdown",
   "id": "d9969c54",
   "metadata": {},
   "source": [
    "## Question - 1"
   ]
  },
  {
   "cell_type": "code",
   "execution_count": 1,
   "id": "5873e045",
   "metadata": {},
   "outputs": [
    {
     "name": "stdout",
     "output_type": "stream",
     "text": [
      "[1, 5]\n"
     ]
    }
   ],
   "source": [
    "'Q1.'\n",
    "\n",
    "def commonElements(arr1, arr2, arr3):\n",
    "    p1, p2, p3 = 0, 0, 0\n",
    "    result = []\n",
    "\n",
    "    while p1 < len(arr1) and p2 < len(arr2) and p3 < len(arr3):\n",
    "        if arr1[p1] == arr2[p2] == arr3[p3]:\n",
    "            result.append(arr1[p1])\n",
    "            p1 += 1\n",
    "            p2 += 1\n",
    "            p3 += 1\n",
    "        elif arr1[p1] <= arr2[p2] and arr1[p1] <= arr3[p3]:\n",
    "            p1 += 1\n",
    "        elif arr2[p2] <= arr1[p1] and arr2[p2] <= arr3[p3]:\n",
    "            p2 += 1\n",
    "        else:\n",
    "            p3 += 1\n",
    "\n",
    "    return result\n",
    "\n",
    "\n",
    "# Declaring values and checking for output\n",
    "\n",
    "arr1 = [1, 2, 3, 4, 5]\n",
    "arr2 = [1, 2, 5, 7, 9]\n",
    "arr3 = [1, 3, 4, 5, 8]\n",
    "result = commonElements(arr1, arr2, arr3)\n",
    "print(result)\n",
    "\n",
    "# Time Complexity - O(n)\n",
    "# Space Complexity - O(1)"
   ]
  },
  {
   "cell_type": "markdown",
   "id": "0a0beaa5",
   "metadata": {},
   "source": [
    "##  Question - 2"
   ]
  },
  {
   "cell_type": "code",
   "execution_count": 2,
   "id": "f021ba36",
   "metadata": {},
   "outputs": [
    {
     "name": "stdout",
     "output_type": "stream",
     "text": [
      "[[1, 3], [4, 6]]\n"
     ]
    }
   ],
   "source": [
    "'Q3.'\n",
    "\n",
    "def distinctLists(nums1 : list, nums2 : list) -> list:\n",
    "    set1 = set(nums1)\n",
    "    set2 = set(nums2)\n",
    "    \n",
    "    diff1 = list(set1 - set2)\n",
    "    diff2 = list(set2 - set1)\n",
    "    \n",
    "    return [diff1, diff2]\n",
    "\n",
    "# Declaring values and checking for output\n",
    "\n",
    "nums1 = [1, 2, 3]\n",
    "nums2 = [2, 4, 6]\n",
    "result = distinctLists(nums1, nums2)\n",
    "print(result)\n",
    "\n",
    "# Time Complexity - O(n1 + n2)\n",
    "# Space Complexity - O(m + k)"
   ]
  },
  {
   "cell_type": "markdown",
   "id": "34fe0cf5",
   "metadata": {},
   "source": [
    "##  Question - 3"
   ]
  },
  {
   "cell_type": "code",
   "execution_count": 3,
   "id": "49049935",
   "metadata": {},
   "outputs": [
    {
     "name": "stdout",
     "output_type": "stream",
     "text": [
      "[[1, 4, 7], [2, 5, 8], [3, 6, 9]]\n"
     ]
    }
   ],
   "source": [
    "'Q3. '\n",
    "\n",
    "def Transpose(matrix):\n",
    "    \n",
    "    rows = len(matrix)\n",
    "    columns = len(matrix[0])\n",
    "    # Creating new matrix of size mxn\n",
    "    transp_mat = [[0]*rows for i in range(columns)]\n",
    "    \n",
    "    for i in range(rows):\n",
    "        for j in range(columns):\n",
    "            transp_mat[j][i]  = matrix[i][j]                    # Assigning values to new matrix\n",
    "            \n",
    "    return transp_mat\n",
    "\n",
    "# Declaring values and checking for output\n",
    "\n",
    "matrix = [[1,2,3],[4,5,6],[7,8,9]]\n",
    "result = Transpose(matrix)\n",
    "print(result)\n",
    "\n",
    "# Time Complexity - O(mxn)\n",
    "# Space Complexity - O(mxn)"
   ]
  },
  {
   "cell_type": "markdown",
   "id": "75b1e0cb",
   "metadata": {},
   "source": [
    "##  Question - 4"
   ]
  },
  {
   "cell_type": "code",
   "execution_count": 4,
   "id": "fbaedb6d",
   "metadata": {},
   "outputs": [
    {
     "name": "stdout",
     "output_type": "stream",
     "text": [
      "4\n"
     ]
    }
   ],
   "source": [
    "'''Q4. To find the maximized sum of minimum values in pairs we have to perform sorting\n",
    "and take consecutive numbers sum '''\n",
    "\n",
    "def maximizedSum(nums):\n",
    "    nums.sort()\n",
    "    count = 0\n",
    "    \n",
    "    for i in range(0,len(nums),2):      # Accessing consecutive numbers by placing step value as 2\n",
    "        count += nums[i]\n",
    "        \n",
    "    return count\n",
    "\n",
    "# Declaring values and checking for output\n",
    "\n",
    "nums = [1,4,3,2]\n",
    "result = maximizedSum(nums)\n",
    "print(result)\n",
    "\n",
    "# Time Complexity - O(nlogn)\n",
    "# Space Complexity - O(1)"
   ]
  },
  {
   "cell_type": "markdown",
   "id": "60457c4f",
   "metadata": {},
   "source": [
    "## Question - 5"
   ]
  },
  {
   "cell_type": "code",
   "execution_count": 5,
   "id": "263cac32",
   "metadata": {},
   "outputs": [
    {
     "name": "stdout",
     "output_type": "stream",
     "text": [
      "2\n"
     ]
    }
   ],
   "source": [
    "'Q5.'\n",
    "\n",
    "def completeStairs(n):\n",
    "    count = 0\n",
    "    while n >= 0:\n",
    "        count += 1\n",
    "        n -= count\n",
    "        \n",
    "    return count - 1\n",
    "\n",
    "# Declaring values and checking for output\n",
    "\n",
    "result = completeStairs(5)\n",
    "print(result)\n",
    "\n",
    "# Time Complexity - O(n)\n",
    "# Space Complexity - O(1)"
   ]
  },
  {
   "cell_type": "markdown",
   "id": "440858c1",
   "metadata": {},
   "source": [
    " ## Question - 6"
   ]
  },
  {
   "cell_type": "code",
   "execution_count": 7,
   "id": "b238817a",
   "metadata": {},
   "outputs": [
    {
     "name": "stdout",
     "output_type": "stream",
     "text": [
      "[0, 1, 9, 16, 100]\n"
     ]
    }
   ],
   "source": [
    "'Q6.'\n",
    "\n",
    "class solution:\n",
    "    def Squares(self, nums):\n",
    "        for i in range(len(nums)):\n",
    "            nums[i] = nums[i]**2\n",
    "            \n",
    "        return self.quicksort(nums)\n",
    "    \n",
    "    def quicksort(self,nums):\n",
    "        if len(nums) <= 1:\n",
    "            return nums\n",
    "        \n",
    "        pivot = nums[0]\n",
    "        smaller = []\n",
    "        larger = []\n",
    "        \n",
    "        for i in nums[1:]:\n",
    "            if i < pivot:\n",
    "                smaller.append(i)\n",
    "                \n",
    "            elif i >= pivot:\n",
    "                larger.append(i)\n",
    "                \n",
    "        return self.quicksort(smaller) + [pivot] + self.quicksort(larger)\n",
    "                \n",
    "# Declaring values and checking for output\n",
    "\n",
    "nums = [-4,-1,0,3,10]\n",
    "obj = solution()\n",
    "result = obj.Squares(nums)\n",
    "print(result)\n",
    "\n",
    "# Time Complexity - O(n^2)\n",
    "# Space Complexity - O(n)     "
   ]
  },
  {
   "cell_type": "markdown",
   "id": "25bdc6c2",
   "metadata": {},
   "source": [
    "## Question - 7"
   ]
  },
  {
   "cell_type": "code",
   "execution_count": 9,
   "id": "e76ac2cf",
   "metadata": {},
   "outputs": [
    {
     "name": "stdout",
     "output_type": "stream",
     "text": [
      "4\n"
     ]
    }
   ],
   "source": [
    "'Q7. '\n",
    "\n",
    "def MaxInts(m, n, ops):\n",
    "    if not ops:\n",
    "        return m*n\n",
    "    \n",
    "    min_row = min(op[0] for op in ops)\n",
    "    min_col = min(op[1] for op in ops)\n",
    "    \n",
    "    return min_row * min_col\n",
    "\n",
    "\n",
    "# Declaring values and checking for output\n",
    "\n",
    "m = 3\n",
    "n = 3\n",
    "ops = [[2,2],[3,3]]\n",
    "result = MaxInts(m, n, ops)\n",
    "print(result)\n",
    "\n",
    "# Time Complexity - O(n)\n",
    "# Space Complexity - O(1)"
   ]
  },
  {
   "cell_type": "markdown",
   "id": "b4cc4905",
   "metadata": {},
   "source": [
    "## Question - 8"
   ]
  },
  {
   "cell_type": "code",
   "execution_count": 10,
   "id": "ad80e6f0",
   "metadata": {},
   "outputs": [
    {
     "name": "stdout",
     "output_type": "stream",
     "text": [
      "[2, 3, 5, 4, 1, 7]\n"
     ]
    }
   ],
   "source": [
    "'Q8. '\n",
    "\n",
    "def Rearrange(nums, n):\n",
    "    new_nums = []\n",
    "    \n",
    "    for i in range(n):\n",
    "        new_nums.extend([nums[i],nums[i+n]])\n",
    "    \n",
    "    return new_nums\n",
    "\n",
    "# Declaring values and checking for output\n",
    "\n",
    "nums = [2,5,1,3,4,7]\n",
    "n = 3\n",
    "result = Rearrange(nums, n)\n",
    "print(result)\n",
    "\n",
    "# Time Complexity - O(n)\n",
    "# Space Complexity - O(n)"
   ]
  }
 ],
 "metadata": {
  "kernelspec": {
   "display_name": "Python 3 (ipykernel)",
   "language": "python",
   "name": "python3"
  },
  "language_info": {
   "codemirror_mode": {
    "name": "ipython",
    "version": 3
   },
   "file_extension": ".py",
   "mimetype": "text/x-python",
   "name": "python",
   "nbconvert_exporter": "python",
   "pygments_lexer": "ipython3",
   "version": "3.9.12"
  }
 },
 "nbformat": 4,
 "nbformat_minor": 5
}
